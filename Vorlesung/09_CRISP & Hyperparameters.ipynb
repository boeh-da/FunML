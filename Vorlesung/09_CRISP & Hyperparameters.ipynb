{
 "cells": [
  {
   "cell_type": "code",
   "execution_count": 31,
   "metadata": {
    "slideshow": {
     "slide_type": "skip"
    }
   },
   "outputs": [],
   "source": [
    "# Einstellungen fuer Plots\n",
    "imagewidth = 800\n",
    "plot_size = (18, 10)\n",
    "half_plot_size = (18, 6)"
   ]
  },
  {
   "cell_type": "code",
   "execution_count": 32,
   "metadata": {
    "slideshow": {
     "slide_type": "skip"
    }
   },
   "outputs": [],
   "source": [
    "%matplotlib inline\n",
    "import numpy as np\n",
    "np.random.seed(42)\n",
    "import pandas as pd\n",
    "import seaborn as sns\n",
    "import math\n",
    "from math import log \n",
    "from sklearn.tree import DecisionTreeClassifier, export_graphviz\n",
    "from sklearn import tree\n",
    "from sklearn.datasets import load_wine\n",
    "from IPython.display import SVG\n",
    "from graphviz import Source\n",
    "from IPython.display import display                               \n",
    "from ipywidgets import interactive\n",
    "from ipywidgets import interact, fixed"
   ]
  },
  {
   "cell_type": "code",
   "execution_count": 33,
   "metadata": {
    "slideshow": {
     "slide_type": "skip"
    }
   },
   "outputs": [
    {
     "data": {
      "text/plain": [
       "<Figure size 640x480 with 0 Axes>"
      ]
     },
     "metadata": {},
     "output_type": "display_data"
    }
   ],
   "source": [
    "# Change style according to FH\n",
    "import matplotlib.pyplot as plt\n",
    "plt.style.use('img/fh_kiel.mplstyle')\n",
    "from matplotlib.colors import ListedColormap, LinearSegmentedColormap\n",
    "from palettable.colorbrewer.qualitative import Paired_8 as q_map\n",
    "\n",
    "\n",
    "\n",
    "plt.set_cmap(q_map.mpl_colormap)\n",
    "filled_markers = ('o', 'v', '^', '<', '>', '8', 's', 'p', '*', 'h', 'H', 'D', 'd', 'P', 'X')\n",
    "\n",
    "blue = '#30414D'\n",
    "green = '#006A4D'\n",
    "orange = '#E3AB44'\n",
    "dark_red = '#C55024'\n",
    "alarm_red = '#E20020'\n",
    "light_green = '#7AB51D'\n",
    "\n",
    "cmap_kiel = ListedColormap(['#30414D', '#E3AB44', '#C55024'])\n",
    "cmap_kiel2 = ListedColormap(['#30414D', '#E3AB44']);"
   ]
  },
  {
   "cell_type": "markdown",
   "metadata": {
    "slideshow": {
     "slide_type": "slide"
    }
   },
   "source": [
    "# Grundlagen Maschinelles Lernen\n",
    "\n",
    "## Fundamentals of Machine Learning\n",
    "\n",
    "\n",
    "Prof. Dr.-Ing. Daniel Böhnke\n",
    "\n",
    "<div style=\"text-align: right\"> Woche 9 v1 </div>"
   ]
  },
  {
   "cell_type": "markdown",
   "metadata": {
    "slideshow": {
     "slide_type": "subslide"
    }
   },
   "source": [
    "# Rotation\n",
    "\n",
    "<center><img src=\"img/tafel_rotation.png\" width=40% class=\"stretch\"></center>\n",
    "\n",
    "* $x_1$ und $x_2$ sind die ursprünglichen Achsen der Daten.\n",
    "* Hier kommt es aber zu großen Überlappungen, die eine Klassifizierung schwer machen.\n",
    "* Wäre $x_{R1}$ nicht die bessere Alternative?"
   ]
  },
  {
   "cell_type": "markdown",
   "metadata": {
    "hide_input": false,
    "slideshow": {
     "slide_type": "subslide"
    }
   },
   "source": [
    "# Hauptkomponentenanalyse\n",
    "\n",
    "* Wir suchen nach neuen Koordinatensystemen (KS) $Z$, die unsere Daten gut beschreiben!\n",
    "* Das Ziel ist es, entlang der ersten Achse des neuen KS die Varianz zu maximieren.\n",
    "* Das neue KS $Z$ baut sich zusammen aus den einzelnen Koordinaten des alten KS multipliziert mit einem Faktor $\\phi$: \n",
    "\n",
    "$$Z_1 = \\phi_{11}X_1 + \\phi_{21}X_2 +\\dots+\\phi_{p1}X_p $$\n",
    "\n",
    "* Beziehungsweise:\n",
    "\n",
    "$$Z_1 = \\phi_{horsepower, 1}X_{horsepower} + \\phi_{weight, 1}X_{weight}$$\n",
    "\n",
    "* Um das Ziel zu erreichen, müssen wir folgende Forderungen stellen: \n",
    "    * Die Summe alle $\\phi^2$ in einer Richtung von $Z$ ist gleich 1.\n",
    "    * Alle $\\phi$ sollen so gewählt werden, dass die Varianz maximal wird.\n",
    "    \n",
    "* Um eine saubere Betrachtung zu ermöglichen, müssen die ursprünglichen Spalten normiert werden!\n",
    "* Das führt uns zu folgendem Optimierungsproblem, dessen Lösung wir aber bestehenden Bibliotheken überlassen:\n",
    "\n",
    "$$\\max_{\\phi_{11}, \\dots, \\phi_{p1}} \\frac{1}{n}\\sum_{i=1}^n\\left( \\sum_{j=1}^p \\phi_{j1}x_{ij} \\right) ^2$$\n",
    "\n"
   ]
  },
  {
   "cell_type": "markdown",
   "metadata": {
    "slideshow": {
     "slide_type": "subslide"
    }
   },
   "source": [
    "# Bagging\n",
    "\n",
    "<center><img src=\"img/tafel_bagging.png\" width=30% class=\"stretch\"></center>\n",
    "\n",
    "\n",
    "* Entscheidungsbäume leiden an hoher Varianz, d.h. wenn die Trainingsdaten anders gewählt sind, können die Ergebnisse stark beeinflußt werden.\n",
    "* Da der Algorithmus gierig ist, wird stets die Spalte mit dem besten Split als erste Entscheidung gewählt. \n",
    "* D.h. je nach Auswahl der Daten kann es hier zur starken Abweichungen unter den Bäumen kommen.\n",
    "* Anstatt einen Baum zu trainieren, werden viele Bäume zu einem Wald zusammengefasst.\n",
    "* Jeder Baum bekommt nur einen Teil der Daten zu Verfügung.\n",
    "* Das Ergebnis mitteln wir aus der Summe aller Antworten."
   ]
  },
  {
   "cell_type": "markdown",
   "metadata": {
    "slideshow": {
     "slide_type": "subslide"
    }
   },
   "source": [
    "# Random Forest\n",
    "\n",
    "<center><img src=\"img/tafel_random_forest.png\" width=30% class=\"stretch\"></center>\n",
    "\n",
    "* Anstelle von Zeilen wählen wir zufällig Spalten aus. \n",
    "* Wenn ein Parameter dominant ist, filtern wir ihn regelmäßig heraus.\n",
    "* Zu einem gewissen Teil wird damit der Gier des Algorithmus umgangen.\n",
    "* In der Praxis hat es sich bewährt $m=\\sqrt p$ Parameter zu behalten."
   ]
  },
  {
   "cell_type": "markdown",
   "metadata": {
    "slideshow": {
     "slide_type": "subslide"
    }
   },
   "source": [
    "# Boosting\n",
    "\n",
    "<center><img src=\"img/tafel_ada.png\" width=30% class=\"stretch\"></center>\n",
    "\n",
    "\n",
    "* Bisher haben wir mehrere Bäume nebeneinander trainiert.\n",
    "* Die Reihenfolge der Bäume hat keine Rolle gespielt.\n",
    "* Es gab keine Interaktion zwischen den Bäumen.\n",
    "* Beim Boosting versuchen wir einen Baum $b+1$ zu trainieren, der die Fehler der vorherigen $b$ Bäume korrigiert. "
   ]
  },
  {
   "cell_type": "markdown",
   "metadata": {
    "slideshow": {
     "slide_type": "subslide"
    }
   },
   "source": [
    "# Lernlandkarte \n",
    "<center><img src=\"img/lernlandkarte.png\" width=80% class=\"stretch\"></center>"
   ]
  },
  {
   "cell_type": "markdown",
   "metadata": {
    "slideshow": {
     "slide_type": "slide"
    }
   },
   "source": [
    "# Heute\n",
    "\n",
    "* Data Science ist mehr als das Aufbereiten von Daten und Training von Modellen. \n",
    "* Mit **CRISP-DM** wird ein Vorgehensmodell eingeführt, welches große Teile des Data Science Arbeitsgebietes abdeckt und Sie bei der Semesterarbeit unterstützen soll. \n",
    "* Sie haben in zwischen einige Modelle kennen gelernt. Was nun noch fehlt ist das Einstellen bzw. Tunen der **Hyper-Parameter** dieser Modelle. \n",
    "* Das Problem wird heute adressiert und Lösungsvorschläge behandelt. "
   ]
  },
  {
   "cell_type": "markdown",
   "metadata": {
    "slideshow": {
     "slide_type": "subslide"
    }
   },
   "source": [
    "# Warm-Up\n",
    "\n",
    "* Sie haben bereits in der Übung mehrere Datensätze untersucht!\n",
    "* Welche notwendigen Schritte können Sie abstrahieren?\n",
    "* Wo haben Sie die meiste Zeit investiert?"
   ]
  },
  {
   "cell_type": "markdown",
   "metadata": {
    "slideshow": {
     "slide_type": "slide"
    }
   },
   "source": [
    "# CRISP-DM\n",
    "\n",
    "\n",
    "<table style='background:white'><tr style='background:white'><td style='background:white'><img src=\"img/pdm.png\" class=\"stretch\"></td><td style='background:white'><img src=\"img/CRISP-DM_Process.png\" class=\"stretch\"></td></tr></table>\n",
    "\n",
    "* CRISP-DM ist einer der Standard-Prozesse für Data Mining.\n",
    "* Des Weiteren existieren spezialisierte Prozessmodell für DM. z.B. Predictive Maintenance\n",
    "* 2015 wurde von IBM auch ein Nachfolger mit dem Namen ASUM-DM vorgestellt. Dieser scheint aber nicht die gleiche Verbreitung zu haben. "
   ]
  },
  {
   "cell_type": "markdown",
   "metadata": {
    "slideshow": {
     "slide_type": "subslide"
    }
   },
   "source": [
    "# Business Understanding\n",
    "\n",
    "<center><img src=\"img/CRISP-DM_Process.png\" width=20% class=\"stretch\"></center>\n",
    "\n",
    "\n",
    "* Bestimmen der Geschäftsziele (betriebswirtschaftlich und technisch)\n",
    "* Bewerten des Geschäftsumfeldes\n",
    "* Bestimmen der Data Mining Ziele\n",
    "* Erstellen eines Projektplanes"
   ]
  },
  {
   "cell_type": "markdown",
   "metadata": {
    "slideshow": {
     "slide_type": "subslide"
    }
   },
   "source": [
    "# Bestimmen der Geschäftsziele (betriebswirtschaftlich und technisch)\n",
    "\n",
    "<center><img src=\"img/use_case.png\" width=20% class=\"stretch\"></center>\n",
    "\n",
    "*Es ist unser Ziel die Anzahl von Delays durch defekte Bremsscheiben um 30% zu reduzieren.*\n",
    "\n",
    "* Es geht zunächst darum ein generelles Verständnis des Geschäfts zu erlangen.\n",
    "* Hier ist es wichtig zunächst die relevanten Fragen zu finden, bevor man sich auf die Suche nach Antworten macht. \n",
    "* Aus einer Fragestellung (einem Problem) kann potentiell ein Use-Case entstehen.\n",
    "* In der Regel ist es einfacher aus technischer Perspektive Use-Cases zu finden.\n",
    "* Jeder Use-Case sollte aber auch wirtschaftlich bewertet werden."
   ]
  },
  {
   "cell_type": "markdown",
   "metadata": {
    "slideshow": {
     "slide_type": "subslide"
    }
   },
   "source": [
    "# Bewerten des Geschäftsumfeldes\n",
    "\n",
    "*Es besteht bereits ein operationales Umfeld für Predictive Maintenance. D.h. technische und personelle Ressourcen sind ausreichend vorhanden*\n",
    "\n",
    "* Welche Ressourcen sind vorhanden bzgl:\n",
    "    * Personal & Budget\n",
    "    * Fach & Methodenkenntnis\n",
    "    * Prozesse\n",
    "    * Infrastruktur\n",
    "* Welcher zeitliche Rahmen existiert?"
   ]
  },
  {
   "cell_type": "markdown",
   "metadata": {
    "slideshow": {
     "slide_type": "subslide"
    }
   },
   "source": [
    "# Bestimmen der Data Mining Ziele\n",
    "\n",
    "*Unser Ziel ist es eine Klassifikation mit einem Recall > 30% bei sehr niedriger False Positive Rate zu entwickeln.*\n",
    "\n",
    "* Es wird eine **Übersetzung** der technischen und wirtschaftlichen Ziele in methodische Ziele benötigt.\n",
    "* So konkret und quantifizierbar wie möglich...\n",
    "* Randfälle abdecken, die in der technischen Diskussion nicht präsent waren."
   ]
  },
  {
   "cell_type": "markdown",
   "metadata": {
    "slideshow": {
     "slide_type": "subslide"
    }
   },
   "source": [
    "# Erstellen eines Projektplanes\n",
    "\n",
    "*Das Projekt teilt sich in 5 AP. Folgende Ressourcen werden benötigt, Terminplan etc...*\n",
    "\n",
    "* Grobe Planung über benötigte Ressourcen, Zeit & Meilensteinplanung. \n",
    "* Ggfs. separate Funktion (Projektleiter, Data Scientist etc.) innerhalb des Projektes\n",
    "* Data Mining ist eine wissenschaftliche Tätigkeit und daher besteht stets die Möglichkeit des Scheiterns. Dies muss der Plan reflektieren.\n",
    "* Ggfs. Anpassung an agile Vorgehensweisen, die sich gut für DM Probleme eignen. "
   ]
  },
  {
   "cell_type": "markdown",
   "metadata": {
    "slideshow": {
     "slide_type": "subslide"
    }
   },
   "source": [
    "# Team Kompetenzen DS I\n",
    "\n",
    "<center><img src=\"img/ven.png\" width=40% class=\"stretch\"></center>\n"
   ]
  },
  {
   "cell_type": "markdown",
   "metadata": {
    "slideshow": {
     "slide_type": "subslide"
    }
   },
   "source": [
    "# Team Kompetenzen II\n",
    "\n",
    "<center><img src=\"img/skills.png\" width=60% class=\"stretch\"></center>\n"
   ]
  },
  {
   "cell_type": "markdown",
   "metadata": {
    "slideshow": {
     "slide_type": "subslide"
    }
   },
   "source": [
    "# Data Understanding\n",
    "\n",
    "<center><img src=\"img/CRISP-DM_Process.png\" width=20% class=\"stretch\"></center>\n",
    "\n",
    "* Initiale Sammlung von Daten\n",
    "* Beschreiben der Daten\n",
    "* Untersuchen der Daten\n",
    "* Verifizierung der Daten-Qualität"
   ]
  },
  {
   "cell_type": "markdown",
   "metadata": {
    "slideshow": {
     "slide_type": "subslide"
    }
   },
   "source": [
    "# Initiale Sammlung von Daten\n",
    "*Bremstemperaturen werden über einen ACARS Bericht aufgezeichnet. Versagensfälle sind in den Werkstattberichten verfügbar*\n",
    "\n",
    "* Welche Daten sind verfügbar? Welche Daten können noch aufgezeichnet werden?\n",
    "* Gibt es nützliche externe Quellen? Offen oder proprietär?\n",
    "* Wo liegen die Daten? Wie kann darauf zugegriffen werden?\n",
    "* Daten im besten Fall an zentraler Stelle für das Projekt ablegen. "
   ]
  },
  {
   "cell_type": "markdown",
   "metadata": {
    "slideshow": {
     "slide_type": "subslide"
    }
   },
   "source": [
    "# Beschreiben der Daten\n",
    "*BTX entspricht der Bremstemperatur in °C, X bezeichnet dabei eine bestimmte Bremse, aufgezeichnet wird in 10s Intervallen*\n",
    "\n",
    "* Was ist in den Daten beschrieben? D.h. was ist der Inhalt jeder Spalte?\n",
    "* Welche Daten sind verfügbar? Über welchen Zeitraum? Gab es Effekte wie Saisons etc.?\n",
    "* Gibt es ein Datenschema?\n",
    "* Mit welchem Schlüssel können Datensätze verknüpft werden?"
   ]
  },
  {
   "cell_type": "markdown",
   "metadata": {
    "slideshow": {
     "slide_type": "subslide"
    }
   },
   "source": [
    "# Untersuchen der Daten\n",
    "*Bei Versagen einer Bremse wird selbige kühler, die andern Bremsen heißer*\n",
    "\n",
    "<img style=\"float: right;\" src=\"img/audio_scatter.png\" width=60%>\n",
    "\n",
    "* Univariate Statistik: Mittelwerte, Varianzen etc.\n",
    "* Visualisieren der Daten\n",
    "* Aufstellen erster Hypothesen\n",
    "* Interaktion mit technischen Experten"
   ]
  },
  {
   "cell_type": "markdown",
   "metadata": {
    "slideshow": {
     "slide_type": "subslide"
    }
   },
   "source": [
    "# Verifizierung der Daten-Qualität\n",
    "*Für ein Flugzeugmuster sind mehrer Datensätze pro Flug vorhanden. Offenbar löst der Report mehrfach aus.*\n",
    "\n",
    "* Stimmt die Beschreibung der Daten mit den Daten überein? Machen die Einheiten Sinn?\n",
    "* Ist der Umfang der Daten stimmig?\n",
    "* Fehlen Datensätze?\n",
    "* Gibt es Duplikate?"
   ]
  },
  {
   "cell_type": "markdown",
   "metadata": {
    "slideshow": {
     "slide_type": "subslide"
    }
   },
   "source": [
    "# Data Preparation\n",
    "\n",
    "<center><img src=\"img/CRISP-DM_Process.png\" width=20% class=\"stretch\"></center>\n",
    "\n",
    "* Auswahl der Daten\n",
    "* Säubern der Daten\n",
    "* Feature Engineering\n",
    "* Integration der Daten\n",
    "* Formatieren der Daten\n",
    "\n",
    "**<center>Data Understanding & Preparation belegen bis zu 80% der Projektressourcen!</center>**"
   ]
  },
  {
   "cell_type": "markdown",
   "metadata": {
    "slideshow": {
     "slide_type": "subslide"
    }
   },
   "source": [
    "# Auswahl der Daten\n",
    "*Die Auswahl beschränkt sich auf einige Flugzeugmuster. Daten nach Austausch einer Bremse werden ignoriert*\n",
    "\n",
    "* Nicht alle Daten müssen notwendig sein, um einen Use-Case zu bearbeiten.\n",
    "* Ggfs. sind nicht alle Daten gültig oder verwendbar.\n",
    "* Für Klassifikation: Ein Balanced Data Set kann hilfreich sein.\n",
    "* Test- und Validierungsdaten vorhalten."
   ]
  },
  {
   "cell_type": "markdown",
   "metadata": {
    "slideshow": {
     "slide_type": "subslide"
    }
   },
   "source": [
    "# Säubern der Daten\n",
    "*Doppelte Reports werden gefiltert.*\n",
    "\n",
    "* Missing Values etc. auffüllen...\n",
    "* Duplikate filtern...\n",
    "* Ggfs. Ausreißer entfernen ...\n",
    "* Potentiell weitere domänenabhängige Probleme bereinigen."
   ]
  },
  {
   "cell_type": "markdown",
   "metadata": {
    "slideshow": {
     "slide_type": "subslide"
    }
   },
   "source": [
    "# Feature Engineering\n",
    "*Es werden Moving Averages, Relative Bremstemperaturen etc. gebildet*\n",
    "\n",
    "* Daten für den Algorithmus greifbar machen!\n",
    "* Rotation und Skalierung von Daten. \n",
    "* Einfache physikalische Modelle hinzufügen.\n",
    "* Statistische Hilfsmittel wie Min, Max, Moving Averages, Exponential Smooting etc.\n",
    "\n",
    "**<center>Feature Engineering ist ein wichtiger Schlüssel zum Erfolg!</center>**"
   ]
  },
  {
   "cell_type": "markdown",
   "metadata": {
    "slideshow": {
     "slide_type": "subslide"
    }
   },
   "source": [
    "# Integration der Daten \n",
    "*Die Reports und Werkstattberichte werden zusammengefasst. X Flüge vor Ausbau einer Bremse als Fehlerhaft markiert*\n",
    "\n",
    "* Label ($y$) und Prediktoren($X$) sind oft getrennt.\n",
    "* Daten sollten persistiert sein, so dass Experimente wiederholbar sind.\n",
    "* Datenstrecken sollten ebenfalls versioniert sein.\n",
    "* Externe Daten (z.B. Wetter) mit integrieren."
   ]
  },
  {
   "cell_type": "markdown",
   "metadata": {
    "slideshow": {
     "slide_type": "subslide"
    }
   },
   "source": [
    "# Formatieren der Daten\n",
    "*Parquet Dateien auf dem HDFS*\n",
    "\n",
    "* In welchem Format werden die Daten für die Modellierung benötigt?\n",
    "* Bei kleinen Datenmengen ist dieser Schritt in der Regel vernachlässigbar.\n",
    "* Für Big Data ein wichtiger Arbeitsschritt (nicht für diesen Kurs!)."
   ]
  },
  {
   "cell_type": "markdown",
   "metadata": {
    "slideshow": {
     "slide_type": "subslide"
    }
   },
   "source": [
    "# Modeling\n",
    "\n",
    "<center><img src=\"img/CRISP-DM_Process.png\" width=20% class=\"stretch\"></center>\n",
    "\n",
    "* Auswahl von Modellansätzen\n",
    "* Definition von Test-Szenarien\n",
    "* Training von Modellen\n",
    "* Bewertung von Modellen"
   ]
  },
  {
   "cell_type": "markdown",
   "metadata": {
    "slideshow": {
     "slide_type": "subslide"
    }
   },
   "source": [
    "# Auswahl von Modellansätzen\n",
    "*GBT, KNN, SVM, NN*\n",
    "\n",
    "* Vorab ist es schwer das beste Modell zu bestimmen.\n",
    "* Auswahl verschiedener Ansätze.\n",
    "* Ist nur gute Performance wichtig, oder muss das Modell auch gut zu erklärbar sein?\n",
    "* Einfache Modelle zunächst priorisieren und dann steigern.\n",
    "* Ausschluß von Modellen ebenfalls dokumentieren."
   ]
  },
  {
   "cell_type": "markdown",
   "metadata": {
    "slideshow": {
     "slide_type": "subslide"
    }
   },
   "source": [
    "# Definition von Test-Szenarien\n",
    "*X negative Sample zur Bestimmung der False Positive Rate, X Prozent der Daten zum Training abgesplittet*\n",
    "\n",
    "* Wie werden die Data Science Ziele quantifiziert?\n",
    "* Was ist methodisch, technisch sinnvoll? Was ist überzeugend?\n",
    "* Hier kommt es oft zu Iterationen: Die Performance für einzelne Fälle nachvollziehbar dokumentieren!"
   ]
  },
  {
   "cell_type": "markdown",
   "metadata": {
    "slideshow": {
     "slide_type": "subslide"
    }
   },
   "source": [
    "# Training von Modellen\n",
    "*Nach einer Reihe initialer Experimente wurde Modell X als das Beste ausgewählt. Vertiefung der Experimente läuft*  \n",
    "\n",
    "* Alle Modelle trainieren auf nahezu identischen Daten.\n",
    "* Zunächst grobes Abtasten der Hyperparameter.\n",
    "* In Schritten: Anzahl der Modelle veringern, mehr Hyperparameter untersuchen!"
   ]
  },
  {
   "cell_type": "markdown",
   "metadata": {
    "slideshow": {
     "slide_type": "subslide"
    }
   },
   "source": [
    "# Bewertung von Modellen\n",
    "*Unter allen Modellen wurde eine Pareto Front über Recall und FPR aufgezeichnet*\n",
    "\n",
    "* Quantifizierung der Data Science Ziele\n",
    "* Bewertung weiterer Faktoren:\n",
    "    * Rechenzeit\n",
    "    * Erklärbarkeit / Nachvollziehbarkeit des Modells\n",
    "    * Robustheit des Modells"
   ]
  },
  {
   "cell_type": "markdown",
   "metadata": {
    "slideshow": {
     "slide_type": "subslide"
    }
   },
   "source": [
    "# Evaluation\n",
    "\n",
    "<center><img src=\"img/CRISP-DM_Process.png\" width=20% class=\"stretch\"></center>\n",
    "\n",
    "* Evaluierung der Ergebnisse\n",
    "* Review\n",
    "* Weitere Planung"
   ]
  },
  {
   "cell_type": "markdown",
   "metadata": {
    "slideshow": {
     "slide_type": "subslide"
    }
   },
   "source": [
    "# Evaluierung der Ergebnisse\n",
    "*In Bezug auf die initialen Ziele lässt sich festhalten, dass...*\n",
    "\n",
    "* Übertragen der Data Science Ziele auf die technisch, wirtschaftlichen Ziele\n",
    "* Wurden die Ziele erreicht?\n",
    "* Gab es weitere Erkenntnisse, neue Use-Cases?\n",
    "* Go / No-Go?\n"
   ]
  },
  {
   "cell_type": "markdown",
   "metadata": {
    "slideshow": {
     "slide_type": "subslide"
    }
   },
   "source": [
    "# Review\n",
    "*Die verschiedenen Arbeitsschritte wurden von externer Seite zufriedenstellend geprüft.*\n",
    "\n",
    "* Qualitätssicherung!\n",
    "* Wurde CRISP-DM eingehalten?\n",
    "* Ggfs. Code Review \n",
    "* Wird am besten von Unbeteiligten oder Externen vorgenommen."
   ]
  },
  {
   "cell_type": "markdown",
   "metadata": {
    "slideshow": {
     "slide_type": "subslide"
    }
   },
   "source": [
    "# Weitere Planung\n",
    "*Ein Deployment wird zeitnah empfohlen...*\n",
    "\n",
    "* Welche Schritte sind für das weitere Deployment notwendig?\n",
    "* Oder ist eine neue Schleife über Data Preparation & Modeling notwendig?\n",
    "* Anpassung der Projektpläne"
   ]
  },
  {
   "cell_type": "markdown",
   "metadata": {
    "slideshow": {
     "slide_type": "subslide"
    }
   },
   "source": [
    "# Deployment\n",
    "\n",
    "<center><img src=\"img/CRISP-DM_Process.png\" width=20% class=\"stretch\"></center>\n",
    "\n",
    "* Operationalisierung planen\n",
    "* Monitoring und Wartung planen\n",
    "* Review Project\n",
    "* Finaler Bericht"
   ]
  },
  {
   "cell_type": "markdown",
   "metadata": {
    "slideshow": {
     "slide_type": "subslide"
    }
   },
   "source": [
    "# Operationalisierung planen\n",
    "*Die Operationalisierung soll in den folgenden Stufen ablaufen...*\n",
    "\n",
    "* Technisch:\n",
    "    * Wie werden die live Datenstrecken aufgebaut?\n",
    "    * Wie kann mit dem Modell interagiert werden?\n",
    "* Organisatorisch:\n",
    "    * Wie wird das Ergebnis des Modells weiterverarbeitet?\n",
    "    * Werden Arbeitsanweisungen automatisch ausgestellt oder manuell überprüft?\n",
    "    * Bis wann und durch wen?\n",
    "* Legal: \n",
    "    * Welche Prozesse sind betroffen? Gibt es Behördenanforderungen?\n",
    "    * Betriebsrat mit einbeziehen?"
   ]
  },
  {
   "cell_type": "markdown",
   "metadata": {
    "slideshow": {
     "slide_type": "subslide"
    }
   },
   "source": [
    "# Monitoring und Wartung planen\n",
    "*Die Modelle werden alle 3 Monate evaluiert. Im Falle eines Ausfalls der Infrastruktur...*\n",
    "\n",
    "* Wie wird das Modell überwacht?\n",
    "* Wie werden die Datenstrecken überwacht?\n",
    "* Was passiert im Fall eines Ausfalls?\n",
    "* Wann wird das Modell neu trainiert?"
   ]
  },
  {
   "cell_type": "markdown",
   "metadata": {
    "slideshow": {
     "slide_type": "subslide"
    }
   },
   "source": [
    "# Review Project\n",
    "*Gemeinsam mit allen Beteiligten und einem externen Moderator wurde ein Lessons Learned Workshop durchgeführt*\n",
    "\n",
    "* Inkl. Management\n",
    "* Wurden Ziele erfüllt?\n",
    "* Zeit, Budget und Qualität wie geplant eingehalten?\n",
    "* Fokus mehr auf dem Mehrwert des Projektes und dem weitern Vorgehen als auf der Qualitätssicherung"
   ]
  },
  {
   "cell_type": "markdown",
   "metadata": {
    "slideshow": {
     "slide_type": "subslide"
    }
   },
   "source": [
    "# Finaler Bericht\n",
    "*Alle Informationen zum Use-Case wurden an folgender Stelle im Intranet dokumentiert*\n",
    "\n",
    "* Je nach Vorgaben der Organisation\n",
    "* Ihre Prüfungsleistung!"
   ]
  },
  {
   "cell_type": "markdown",
   "metadata": {
    "hide_input": true,
    "slideshow": {
     "slide_type": "subslide"
    }
   },
   "source": [
    "## Hyperparameter Tuning vs. Feature Engineering \n",
    "\n",
    "\n",
    "<center><img src=\"img/tafel_fe.png\" width=30% class=\"stretch\"></center>\n",
    "\n",
    "* Im Feature Engineering manipulieren wir $X$, um es dem Modell einfach zu machen.\n",
    "* Im Hyperparameter Tuning passen wir die Stellschrauben von $f(x)$ an, um das Modell besser zu machen.\n",
    "* z.B. verändern wir die Anzahl der Nachbarn bei einer k-NN Klassifizierung."
   ]
  },
  {
   "cell_type": "markdown",
   "metadata": {
    "slideshow": {
     "slide_type": "subslide"
    }
   },
   "source": [
    "# Optimierung Dose\n",
    "\n",
    "<center><img src=\"img/tafel_dose.png\" width=30% class=\"stretch\"></center>\n",
    "\n",
    "* Im Grunde versuchen wir ein Extremwert- oder Optimierungsproblem zu lösen.\n",
    "* Wie müssen die Parameter eines Modells eingestellt werden, damit es die beste Performance bringt?\n",
    "* Gegeben ist eine Getränkedose mit 330ml Inhalt!\n",
    "* Wählen Sie Radius $r$ und Höhe $h$ der Dose so, dass sie die minimale Menge Blech verwenden!"
   ]
  },
  {
   "cell_type": "code",
   "execution_count": 34,
   "metadata": {
    "hide_input": false,
    "slideshow": {
     "slide_type": "fragment"
    }
   },
   "outputs": [],
   "source": [
    "def ober(r):\n",
    "    return 2*math.pi*r*r+2*330/r\n",
    "\n",
    "def oberstrich(r):\n",
    "    return 4*math.pi*r-2*330/(r*r)"
   ]
  },
  {
   "cell_type": "code",
   "execution_count": 35,
   "metadata": {
    "hide_input": true,
    "scrolled": true,
    "slideshow": {
     "slide_type": "fragment"
    }
   },
   "outputs": [
    {
     "data": {
      "image/png": "[encoded data removed]",
      "text/plain": [
       "<Figure size 1800x600 with 1 Axes>"
      ]
     },
     "metadata": {},
     "output_type": "display_data"
    }
   ],
   "source": [
    "r = np.linspace(1,20)\n",
    "\n",
    "# Plotte Lineare Regression für Elektro Motor\n",
    "fig, ax = plt.subplots(1, 1, figsize=half_plot_size)\n",
    "\n",
    "\n",
    "ax.plot(r,ober(r), '-', label='$O$')\n",
    "ax.plot(r,oberstrich(r), '-', label=\"$O'$\")\n",
    "\n",
    "ax.legend()\n",
    "plt.title('Graphische Lösung')\n",
    "plt.ylabel('')\n",
    "plt.xlabel('R')\n",
    "plt.tight_layout()\n",
    "plt.show()"
   ]
  },
  {
   "cell_type": "markdown",
   "metadata": {
    "slideshow": {
     "slide_type": "subslide"
    }
   },
   "source": [
    "# Begrifflichkeiten Optimierung\n",
    "\n",
    "* Die Zielfunktion gibt die zu maximierenden / minimierende Größe an. z.B. Geringeste Kosten bei der Predictive Maintenance\n",
    "* Zielfunktion:\n",
    "$$O(r,h)$$\n",
    "  "
   ]
  },
  {
   "cell_type": "markdown",
   "metadata": {
    "slideshow": {
     "slide_type": "fragment"
    }
   },
   "source": [
    "* Die Zielfunktion selber hängt von verschiedenen Parameter ab. z.B. Anzahl der Bäume\n",
    "* Parameter / Variablen\n",
    "$$r,h$$\n",
    "\n",
    "\n"
   ]
  },
  {
   "cell_type": "markdown",
   "metadata": {
    "slideshow": {
     "slide_type": "fragment"
    }
   },
   "source": [
    "* Bei der Optimierung sind bestimmte Randbedingungen zu beachten. z.B. Keine negative Anzahl von Bäumen\n",
    "* Randbedingungen\n",
    "\n",
    "$$r>0$$\n",
    "$$h>0$$\n",
    "$$V=330$$\n"
   ]
  },
  {
   "cell_type": "markdown",
   "metadata": {
    "slideshow": {
     "slide_type": "subslide"
    }
   },
   "source": [
    "# Blackbox\n",
    "\n",
    "<center><img src=\"img/tafel_bb.png\" width=30% class=\"stretch\"></center>\n",
    "\n",
    "* Wir kennen in der Regel weder die Definition der Zielfunktion noch der Randbedingung\n",
    "* Selbst wenn, sind wir oft nicht in der Lage eine analytische Lösung zu finden\n",
    "* D.h. Wir kennen die Formel nicht\n",
    "* D.h. Wir können $V$ nicht in $O$ einsetzen, sondern gehen davon aus, dass sie Ergebnis der Blackbox sind"
   ]
  },
  {
   "cell_type": "markdown",
   "metadata": {
    "slideshow": {
     "slide_type": "subslide"
    }
   },
   "source": [
    "# Welche Probleme entstehen bei der Optimierung von ML-Modellen?\n",
    "\n",
    "#### Nicht Kontinuierlich und nicht Diskretisierbar\n",
    "\n",
    "* Alle Lösungen die wir jetzt **berechnet** haben, basieren auf kontinuierlichen Antworten der Blackbox \n",
    "* Aber die Klassifizierung kann keine kontinuierliche Antwort liefern:\n",
    "    * Annahme: 1000 Sample stehen in der Validierungsmenge zur Verfügung \n",
    "    * Die Accuracy kann nur die folgenden Werte annehmen: \n",
    "    * [1., 0.999, 0.998, ...,0.001, 0]"
   ]
  },
  {
   "cell_type": "markdown",
   "metadata": {
    "slideshow": {
     "slide_type": "fragment"
    }
   },
   "source": [
    "#### Keine kontinuierliche Definitionsmenge\n",
    "\n",
    "* Nicht nur die Antwort ist diskret...\n",
    "* ... auch viele unserer $X$ sind es. \n",
    "* z.B. Die Anzahl der Nachbarn beim KNN"
   ]
  },
  {
   "cell_type": "markdown",
   "metadata": {
    "slideshow": {
     "slide_type": "subslide"
    }
   },
   "source": [
    "# Mit all diesen Problemen: Was bleibt uns als Lösung?\n",
    "\n",
    "* Optimierung per Algorithmus\n",
    "    * Möglich, aber kompliziert\n",
    "    * Mixed Integer Non-Linear Program\n",
    "    * z.B. Ameisen Algorithmen, Stochastic Gradient Descent, Genetische Algorithmen"
   ]
  },
  {
   "cell_type": "markdown",
   "metadata": {
    "slideshow": {
     "slide_type": "fragment"
    }
   },
   "source": [
    "* Brute Force Optimierung\n",
    "    * Wir probieren verschiedene Zahlen aus!\n",
    "    * Wird schnell numerisch teuer!\n",
    "    * Gute Versuchsplanung kann hier helfen!"
   ]
  },
  {
   "cell_type": "markdown",
   "metadata": {
    "slideshow": {
     "slide_type": "slide"
    }
   },
   "source": [
    "# Design of Experiments / Versuchsplanung\n",
    "\n",
    "* Die Berechnung der Oberfläche und des Volumens sind sehr teuer\n",
    "* Wir probieren verschiedene $r$, $h$ aus, um ein Optimum zu finden\n",
    "* Wenn wir kein Vorwissen haben, an welchen Stellen untersuchen wir $r$, $h$?"
   ]
  },
  {
   "cell_type": "markdown",
   "metadata": {
    "slideshow": {
     "slide_type": "fragment"
    }
   },
   "source": [
    "* Space Filling\n",
    "* Non Collapsing\n",
    "\n",
    "* Deterministische Designs > Full-Factorial\n",
    "* Randomisierte Designs > Monte Carlo\n",
    "* Erweiterte randomisierte Designs > Latin Hypercube"
   ]
  },
  {
   "cell_type": "markdown",
   "metadata": {
    "slideshow": {
     "slide_type": "subslide"
    }
   },
   "source": [
    "## Full Factorial\n",
    "\n",
    "<center><img src=\"img/tafel_ff.png\" width=20% class=\"stretch\"></center>\n",
    "\n",
    "* vgl. kartesisches Produkt\n",
    "* Vorgegebene Anzahl von Samplen\n",
    "* Gute Verteilung im Raum\n",
    "* Kollabiert\n",
    "* Anfällig gegenüber lokalen Effekten\n",
    "* Alternativen sind zahlreich: z.B. Box-Behnken & Central Composite Designs"
   ]
  },
  {
   "cell_type": "code",
   "execution_count": 36,
   "metadata": {
    "slideshow": {
     "slide_type": "fragment"
    }
   },
   "outputs": [],
   "source": [
    "from pyDOE2 import fullfact\n",
    "\n",
    "n_level = 3\n",
    "n_dimensions = 3\n",
    "X = fullfact(n_dimensions*[n_level])/2\n",
    "#X"
   ]
  },
  {
   "cell_type": "code",
   "execution_count": 37,
   "metadata": {
    "hide_input": true,
    "slideshow": {
     "slide_type": "fragment"
    }
   },
   "outputs": [
    {
     "data": {
      "application/vnd.jupyter.widget-view+json": {
       "model_id": "21c6ffeb77e246b4a78b69091daf161f",
       "version_major": 2,
       "version_minor": 0
      },
      "text/plain": [
       "interactive(children=(IntSlider(value=30, description='elev', max=90, min=-90), IntSlider(value=30, descriptio…"
      ]
     },
     "metadata": {},
     "output_type": "display_data"
    }
   ],
   "source": [
    "from mpl_toolkits import mplot3d\n",
    "from ipywidgets import interact, fixed\n",
    "def plot_3D(elev=30, azim=30):\n",
    "    fig = plt.figure(figsize=half_plot_size)\n",
    "\n",
    "    ax = plt.subplot(projection='3d')\n",
    "    ax.scatter3D(X[:, 0], X[:, 1], X[:, 2], s=50, cmap=cmap_kiel2)\n",
    "    ax.view_init(elev=elev, azim=azim)\n",
    "    ax.set_xlabel('X1')\n",
    "    ax.set_ylabel('X2')\n",
    "    ax.set_zlabel('X3')\n",
    "    plt.title('Full Factorial')\n",
    "\n",
    "interact(plot_3D, elev=(-90, 90), azim=(-180, 180));\n",
    "\n"
   ]
  },
  {
   "cell_type": "markdown",
   "metadata": {
    "slideshow": {
     "slide_type": "subslide"
    }
   },
   "source": [
    "## Monte Carlo\n",
    "\n",
    "<center><img src=\"img/tafel_mc.png\" width=20% class=\"stretch\"></center>\n",
    "\n",
    "\n",
    "* Rein zufallsbasierte Verteilung\n",
    "* Beliebig viele Sample\n",
    "* Untersucht viele Lokationen innerhalb einer Dimension\n",
    "* Anfällig für Cluster von Samplen\n",
    "* Ursprung im Manhatten-Projekt\n",
    "\n",
    "*Metropolis, N., and Ulam, S. The monte carlo method. Journal of the American Statistical Association (1949)*"
   ]
  },
  {
   "cell_type": "code",
   "execution_count": 38,
   "metadata": {
    "hide_input": false,
    "slideshow": {
     "slide_type": "fragment"
    }
   },
   "outputs": [],
   "source": [
    "import numpy as np\n",
    "X = np.random.rand(27,3)\n",
    "#X"
   ]
  },
  {
   "cell_type": "code",
   "execution_count": 39,
   "metadata": {
    "hide_input": true,
    "slideshow": {
     "slide_type": "fragment"
    }
   },
   "outputs": [
    {
     "data": {
      "application/vnd.jupyter.widget-view+json": {
       "model_id": "fea5f0ade8d4477bb91f3ee3ccbca724",
       "version_major": 2,
       "version_minor": 0
      },
      "text/plain": [
       "interactive(children=(IntSlider(value=30, description='elev', max=90, min=-90), IntSlider(value=30, descriptio…"
      ]
     },
     "metadata": {},
     "output_type": "display_data"
    }
   ],
   "source": [
    "from mpl_toolkits import mplot3d\n",
    "from ipywidgets import interact, fixed\n",
    "def plot_3D(elev=30, azim=30):\n",
    "    fig = plt.figure(figsize=half_plot_size)\n",
    "\n",
    "    ax = plt.subplot(projection='3d')\n",
    "    ax.scatter3D(X[:, 0], X[:, 1], X[:, 2], s=50)\n",
    "    ax.view_init(elev=elev, azim=azim)\n",
    "    ax.set_xlabel('X1')\n",
    "    ax.set_ylabel('X2')\n",
    "    ax.set_zlabel('X3')\n",
    "    plt.title('Monte Carlo')\n",
    "\n",
    "interact(plot_3D, elev=(-90, 90), azim=(-180, 180));\n",
    "\n"
   ]
  },
  {
   "cell_type": "markdown",
   "metadata": {
    "slideshow": {
     "slide_type": "subslide"
    }
   },
   "source": [
    "# Latin Hypercubes\n",
    "\n",
    "<center><img src=\"img/Latin.png\" width=30% class=\"stretch\"></center>\n",
    "\n",
    "* Unterteilt Entwurfsraum in soviele Intervalle wie Sample\n",
    "* Zieht random Sample innerhalb eines Intervalls und kombiniert diese\n",
    "* Merke: Farben eines Kirchenfensters\n",
    "* Kann über Nested Latin Hypercubes erweitert werden\n",
    "* Gute DoE können erheblichen Aufwand bedeuten https://spacefillingdesigns.nl/\n",
    "\n",
    "\n",
    "\n",
    "*McKay, M. D., Beckman, R. J., and Conover, W. J. A comparison of Three Methods for Selecting Values of Input Variables in the Analysis of Output from a Computer Code. Technometrics 21 (1979)*"
   ]
  },
  {
   "cell_type": "code",
   "execution_count": 40,
   "metadata": {
    "slideshow": {
     "slide_type": "fragment"
    }
   },
   "outputs": [],
   "source": [
    "from pyDOE2 import lhs\n",
    "\n",
    "X = lhs(3,27)\n",
    "#X"
   ]
  },
  {
   "cell_type": "code",
   "execution_count": 41,
   "metadata": {
    "hide_input": true,
    "slideshow": {
     "slide_type": "fragment"
    }
   },
   "outputs": [
    {
     "data": {
      "application/vnd.jupyter.widget-view+json": {
       "model_id": "3af82b2878f4429d9f7d0c794a01e866",
       "version_major": 2,
       "version_minor": 0
      },
      "text/plain": [
       "interactive(children=(IntSlider(value=30, description='elev', max=90, min=-90), IntSlider(value=30, descriptio…"
      ]
     },
     "metadata": {},
     "output_type": "display_data"
    }
   ],
   "source": [
    "from mpl_toolkits import mplot3d\n",
    "from ipywidgets import interact, fixed\n",
    "def plot_3D(elev=30, azim=30):\n",
    "    fig = plt.figure(figsize=half_plot_size)\n",
    "\n",
    "    ax = plt.subplot(projection='3d')\n",
    "    ax.scatter3D(X[:, 0], X[:, 1], X[:, 2], s=50, cmap=cmap_kiel2)\n",
    "    ax.view_init(elev=elev, azim=azim)\n",
    "    ax.set_xlabel('X1')\n",
    "    ax.set_ylabel('X2')\n",
    "    ax.set_zlabel('X3')\n",
    "    plt.title('Latin Hypercube')\n",
    "\n",
    "interact(plot_3D, elev=(-90, 90), azim=(-180, 180));\n",
    "\n"
   ]
  },
  {
   "cell_type": "markdown",
   "metadata": {
    "slideshow": {
     "slide_type": "subslide"
    }
   },
   "source": [
    "# Vergleich über Histogramm\n",
    "\n",
    "<center><img src=\"img/hist.png\" width=50% class=\"stretch\"></center>\n",
    "\n",
    "* Vergleich der Designs über ein Histogramm.\n",
    "* In den 16 Bins werden alle Punkte einsortiert.\n",
    "* Desto mehr Punkte in eine Bin fallen, desto schwächer sind sie verteilt.\n",
    "\n",
    "\n",
    "\n"
   ]
  },
  {
   "cell_type": "markdown",
   "metadata": {
    "slideshow": {
     "slide_type": "subslide"
    }
   },
   "source": [
    "# Optimierung nach Bayes mit TPE\n",
    "\n",
    "- **Bayesian Optimization**: Eine Methode zur Optimierung von Hyperparametern, die eine probabilistische Modellierung verwendet.\n",
    "- **Tree-structured Parzen Estimator (TPE)**: Eine spezifische Implementierung der Bayesian Optimization, die die Suche nach optimalen Hyperparametern effizienter gestaltet.\n",
    "- **Ziel**: Finden der besten Hyperparameter-Kombinationen für ein Modell, um die Leistungsfähigkeit zu maximieren.\n",
    "- **Funktionsweise**:\n",
    "  - Baut ein probabilistisches Modell der Ziel-Funktion.\n",
    "  - Nutzt dieses Modell, um die nächsten Hyperparameter-Werte auszuwählen.\n",
    "  - Aktualisiert das Modell iterativ basierend auf den Ergebnissen der gewählten Hyperparameter.\n",
    "- **Vorteile**:\n",
    "  - Effizienter als Grid- oder Random-Search.\n",
    "  - Geeignet für Probleme mit teuren Evaluierungsfunktionen."
   ]
  },
  {
   "cell_type": "markdown",
   "metadata": {
    "slideshow": {
     "slide_type": "subslide"
    }
   },
   "source": [
    "# Umsetzung der Bayesian Optimization mit TPE\n",
    "\n",
    "- **Schritte der Implementierung**:\n",
    "  1. **Initialisierung**: Beginne mit einer kleinen Anzahl zufällig ausgewählter Hyperparameter.\n",
    "  2. **Probabilistisches Modell**: Erstelle ein probabilistisches Modell (z.B. Gauß-Prozess) basierend auf den bisherigen Evaluierungen.\n",
    "  3. **Auswahlstrategie**: Wähle neue Hyperparameter, die die erwartete Verbesserung maximieren.\n",
    "  4. **Evaluierung**: Teste die gewählten Hyperparameter und bewerte deren Leistung.\n",
    "  5. **Modell-Update**: Aktualisiere das probabilistische Modell mit den neuen Ergebnissen.\n",
    "  6. **Wiederholung**: Wiederhole die Schritte 3-5, bis ein Abbruchkriterium erreicht ist (z.B. Zeitlimit, Anzahl der Iterationen).\n"
   ]
  },
  {
   "cell_type": "markdown",
   "metadata": {
    "slideshow": {
     "slide_type": "subslide"
    }
   },
   "source": [
    "# Beispiel TPE"
   ]
  },
  {
   "cell_type": "code",
   "execution_count": 42,
   "metadata": {
    "hide_input": true,
    "slideshow": {
     "slide_type": "fragment"
    }
   },
   "outputs": [
    {
     "data": {
      "image/png": "[encoded data removed]",
      "text/plain": [
       "<Figure size 1000x600 with 1 Axes>"
      ]
     },
     "metadata": {},
     "output_type": "display_data"
    }
   ],
   "source": [
    "import numpy as np\n",
    "import matplotlib.pyplot as plt\n",
    "from hyperopt import fmin, tpe, hp, Trials\n",
    "\n",
    "# Definiere die Zielfunktion\n",
    "def objective(x):\n",
    "    return np.sin(3 * x) + x ** 2\n",
    "\n",
    "# Erstelle eine Visualisierung der Zielfunktion\n",
    "x = np.linspace(-2, 2, 400)\n",
    "y = objective(x)\n",
    "\n",
    "plt.figure(figsize=(10, 6))\n",
    "plt.plot(x, y, label='Objective Function')\n",
    "plt.xlabel('x')\n",
    "plt.ylabel('f(x)')\n",
    "plt.title('Zielfunktion: f(x) = sin(3x) + x^2')\n",
    "plt.legend()\n",
    "plt.show()\n"
   ]
  },
  {
   "cell_type": "markdown",
   "metadata": {
    "slideshow": {
     "slide_type": "subslide"
    }
   },
   "source": [
    "# Beispiel TPE"
   ]
  },
  {
   "cell_type": "code",
   "execution_count": 43,
   "metadata": {
    "hide_input": true,
    "slideshow": {
     "slide_type": "fragment"
    }
   },
   "outputs": [
    {
     "name": "stdout",
     "output_type": "stream",
     "text": [
      "100%|█████████████████████████████████████████████████████████████| 20/20 [00:00<00:00, 2907.36trial/s, best loss: -0.2538055726850511]\n",
      "100%|██████████████████████████████████████████████████████████████| 21/21 [00:00<00:00, 126.82trial/s, best loss: -0.6593377589599599]\n",
      "100%|██████████████████████████████████████████████████████████████| 22/22 [00:00<00:00, 469.69trial/s, best loss: -0.6821001089483832]\n",
      "100%|██████████████████████████████████████████████████████████████| 23/23 [00:00<00:00, 422.81trial/s, best loss: -0.7759580483173154]\n",
      "100%|██████████████████████████████████████████████████████████████| 24/24 [00:00<00:00, 345.41trial/s, best loss: -0.7759580483173154]\n",
      "100%|██████████████████████████████████████████████████████████████| 25/25 [00:00<00:00, 360.37trial/s, best loss: -0.7759580483173154]\n"
     ]
    },
    {
     "data": {
      "image/png": "[encoded data removed]",
      "text/plain": [
       "<Figure size 1000x600 with 1 Axes>"
      ]
     },
     "metadata": {},
     "output_type": "display_data"
    },
    {
     "name": "stdout",
     "output_type": "stream",
     "text": [
      "Best parameters: {'x': -0.0882226551143046}\n",
      "Next suggested points: [[-0.27527955]\n",
      " [-0.5588499 ]\n",
      " [-0.4255967 ]\n",
      " [-0.4255967 ]\n",
      " [-0.4255967 ]]\n"
     ]
    }
   ],
   "source": [
    "import numpy as np\n",
    "import matplotlib.pyplot as plt\n",
    "from hyperopt import fmin, tpe, hp, Trials\n",
    "from sklearn.gaussian_process import GaussianProcessRegressor\n",
    "from sklearn.gaussian_process.kernels import Matern\n",
    "\n",
    "# Definiere die Zielfunktion\n",
    "def objective(x):\n",
    "    return np.sin(3 * x) + x ** 2\n",
    "\n",
    "# Erstelle eine Visualisierung der Zielfunktion\n",
    "x = np.linspace(-2, 2, 400).reshape(-1, 1)\n",
    "y = objective(x)\n",
    "\n",
    "# Definiere den Suchraum\n",
    "search_space = hp.uniform('x', -2, 2)\n",
    "\n",
    "# Initialisiere Trials-Objekt zur Speicherung der Ergebnisse\n",
    "trials = Trials()\n",
    "\n",
    "# Starte die Optimierung\n",
    "best = fmin(fn=lambda x: objective(x),\n",
    "            space=search_space,\n",
    "            algo=tpe.suggest,\n",
    "            max_evals=20,\n",
    "            trials=trials)\n",
    "\n",
    "# Visualisiere die Ergebnisse\n",
    "x_vals = np.array([t['misc']['vals']['x'][0] for t in trials.trials]).reshape(-1, 1)\n",
    "y_vals = np.array([t['result']['loss'] for t in trials.trials])\n",
    "\n",
    "# Fit Gaussian Process\n",
    "kernel = Matern(nu=2.5)\n",
    "gp = GaussianProcessRegressor(kernel=kernel, n_restarts_optimizer=10, alpha=1e-6)\n",
    "gp.fit(x_vals, y_vals)\n",
    "\n",
    "# Predict using Gaussian Process\n",
    "x_pred = np.linspace(-2, 2, 400).reshape(-1, 1)\n",
    "y_pred, sigma = gp.predict(x_pred, return_std=True)\n",
    "\n",
    "# Visualisierung\n",
    "plt.figure(figsize=(10, 6))\n",
    "plt.plot(x, y, label='Objective Function')\n",
    "plt.scatter(x_vals, y_vals, color='red', label='Evaluated Points')\n",
    "plt.plot(x_pred, y_pred, label='GP Prediction', color='green')\n",
    "plt.fill_between(x_pred.ravel(), \n",
    "                 y_pred - 1.96 * sigma, \n",
    "                 y_pred + 1.96 * sigma, \n",
    "                 alpha=0.2, color='green')\n",
    "\n",
    "# Vorschlag für die nächsten Punkte\n",
    "def suggest_next_points(trials, search_space, n_points=5):\n",
    "    next_points = []\n",
    "    for _ in range(n_points):\n",
    "        best = fmin(fn=lambda x: objective(x),\n",
    "                    space=search_space,\n",
    "                    algo=tpe.suggest,\n",
    "                    max_evals=len(trials.trials) + 1,\n",
    "                    trials=trials)\n",
    "        new_point = best['x']\n",
    "        next_points.append(new_point)\n",
    "    return np.array(next_points)\n",
    "\n",
    "next_points = suggest_next_points(trials, search_space).reshape(-1, 1)\n",
    "next_vals = objective(next_points)\n",
    "\n",
    "plt.scatter(next_points, next_vals, color='blue', label='Next Suggestions')\n",
    "\n",
    "plt.xlabel('x')\n",
    "plt.ylabel('f(x)')\n",
    "plt.title('Bayesian Optimization with TPE and Gaussian Process')\n",
    "plt.legend()\n",
    "plt.show()\n",
    "\n",
    "print(\"Best parameters:\", best)\n",
    "print(\"Next suggested points:\", next_points)\n"
   ]
  },
  {
   "cell_type": "markdown",
   "metadata": {
    "slideshow": {
     "slide_type": "subslide"
    }
   },
   "source": [
    "# Zusammenfassung Hyperparameter Tuning\n",
    "\n",
    "* In der Regel werden Sie (im Rahmen dieser Veranstaltung) keine saubere Optimierung für ein Hyperparameter Tuning umsetzen können. \n",
    "* ... insbesondere, wenn Sie mehr als einen Parameter betrachten.\n",
    "* Für die Umsetzung unserer Probleme beziehen wir uns auf eine Gittersuche. \n",
    "* Bei einer hohen Anzahl von Parametern sollten MC oder LHC eingesetzt werden. \n",
    "* Ansonsten ist ein FFD vertretbar.\n"
   ]
  }
 ],
 "metadata": {
  "celltoolbar": "Slideshow",
  "kernelspec": {
   "display_name": "FunML",
   "language": "python",
   "name": "funml"
  },
  "language_info": {
   "codemirror_mode": {
    "name": "ipython",
    "version": 3
   },
   "file_extension": ".py",
   "mimetype": "text/x-python",
   "name": "python",
   "nbconvert_exporter": "python",
   "pygments_lexer": "ipython3",
   "version": "3.11.6"
  },
  "varInspector": {
   "cols": {
    "lenName": 16,
    "lenType": 16,
    "lenVar": 40
   },
   "kernels_config": {
    "python": {
     "delete_cmd_postfix": "",
     "delete_cmd_prefix": "del ",
     "library": "var_list.py",
     "varRefreshCmd": "print(var_dic_list())"
    },
    "r": {
     "delete_cmd_postfix": ") ",
     "delete_cmd_prefix": "rm(",
     "library": "var_list.r",
     "varRefreshCmd": "cat(var_dic_list()) "
    }
   },
   "types_to_exclude": [
    "module",
    "function",
    "builtin_function_or_method",
    "instance",
    "_Feature"
   ],
   "window_display": false
  }
 },
 "nbformat": 4,
 "nbformat_minor": 2
}
