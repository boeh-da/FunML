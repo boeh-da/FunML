{
 "cells": [
  {
   "cell_type": "markdown",
   "metadata": {
    "slideshow": {
     "slide_type": "slide"
    }
   },
   "source": [
    "# Grundlagen Maschinelles Lernen\n",
    "\n",
    "## Fundamentals of Maschine Learning\n",
    "\n",
    "\n",
    "\n",
    "Prof. Dr.-Ing. Daniel Böhnke"
   ]
  },
  {
   "cell_type": "markdown",
   "metadata": {
    "slideshow": {
     "slide_type": "fragment"
    }
   },
   "source": [
    "#### Rechtliche Hinweise zum Urheberrecht\n",
    "\n",
    "* Das Veröffentlichen oder Teilen von Bild- und Tonaufzeichnungen dieser Lehrveranstaltung sowie der bereitgestellten Unterlagen ist nicht gestattet.\n",
    "* Die Vorlesung basiert teils auf Lehrbüchern, welche Sie im Moodle verlinkt finden.\n"
   ]
  },
  {
   "cell_type": "markdown",
   "metadata": {
    "slideshow": {
     "slide_type": "subslide"
    }
   },
   "source": [
    "# Begrüßung & Vorstellung\n",
    "\n",
    "<img style=\"float: right;\" src=\"img/bewerbungSW.jpg\" width=30%>\n",
    "\n",
    "* Dipl. Ing. Luft- und Raumfahrttechnik Uni Stuttgart & Southampton\n",
    "* Promotion, TUHH\n",
    "* Projektleiter im Flugzeugentwurf, DLR\n",
    "* Product Owner Data Science, Lufthansa Industry Solutions\n",
    "* Professor für Ingenieur-Informatik, FH-Kiel\n"
   ]
  },
  {
   "cell_type": "markdown",
   "metadata": {
    "slideshow": {
     "slide_type": "subslide"
    }
   },
   "source": [
    "# Heute\n",
    "\n",
    "* Motivation Maschinelles Lernen\n",
    "* Kompetenzen & Organisation\n",
    "* Grundlagen Maschinelles Lernen"
   ]
  },
  {
   "cell_type": "markdown",
   "metadata": {
    "slideshow": {
     "slide_type": "subslide"
    }
   },
   "source": [
    "# Artifical Intelligence "
   ]
  },
  {
   "cell_type": "markdown",
   "metadata": {
    "slideshow": {
     "slide_type": "fragment"
    }
   },
   "source": [
    "\n",
    "<center><img src=\"img/ai.png\" width=50% class=\"stretch\"></center>"
   ]
  },
  {
   "cell_type": "markdown",
   "metadata": {
    "slideshow": {
     "slide_type": "fragment"
    }
   },
   "source": [
    "* Maschinelles Lernen ist eine Kategorie der Künstlichen Intelligenz"
   ]
  },
  {
   "cell_type": "markdown",
   "metadata": {
    "slideshow": {
     "slide_type": "subslide"
    }
   },
   "source": [
    "# Starke Künstliche Intelligenz\n",
    "\n",
    "<img style=\"float: right;\" src=\"img/terminator.png\" width=15% class=\"stretch\">\n",
    "\n",
    "* Definition des Intelligenzbegriffs ist in der Wissenschaft nicht abgeschlossen. Grob formuliert: *Einsatz kognitiver Fähigkeiten zur Lösung und Bewertung eines Problems*\n",
    "* Eine **starke** künstliche Intelligenz wäre in der Lage auf Situationen mit zum Menschen vergleichbaren kognitiven Fähigkeiten zu reagieren. Dazu würde z.B. auch die Erkennung eines Problems zählen. \n",
    "* Nach aktuellen Kenntnisstand ist die Entwicklung einer **starken** künstlichen Intelligenz noch Zukunftsmusik.\n",
    "* Die starke künstliche Intelligenz ist daher nicht Inhalt dieses Kurses.\n",
    "\n",
    "*Quelle: Orion Pictures*"
   ]
  },
  {
   "cell_type": "markdown",
   "metadata": {
    "slideshow": {
     "slide_type": "subslide"
    }
   },
   "source": [
    "# Schwache Künstliche Intelligenz\n",
    "\n",
    "<img style=\"float: right;\"  src=\"img/lernen.png\" width=50% class=\"stretch\">\n",
    "\n",
    "\n",
    "* Die **schwache** künstliche Intelligenz ist schwach in dem Sinn, dass Sie nicht selbständig ein Problem identifizieren kann oder (in Grenzen) kreativ aktiv werden kann. \n",
    "* Eine schwache künstliche Intelligenz wird spezifisch auf ein Problem hin trainiert. \n",
    "* Sie kann z.B. Muster sehr gut in großen Mengen von Daten erkennen. \n",
    "* Ziel ist es mit Hilfe der schwachen künstlichen Intelligenz Prozesse zu unterstützen bzw. zu automatisieren. \n",
    "* Abfällig auch als *Curve Fitting* bezeichnet."
   ]
  },
  {
   "cell_type": "markdown",
   "metadata": {
    "slideshow": {
     "slide_type": "subslide"
    }
   },
   "source": [
    "# Maschinelles Lernen erkennt Muster \n",
    "\n",
    "<center><video controls src=\"img/network.mp4\" width = 40% class=\"stretch\"/></center>\n",
    "\n",
    "* Algorithmen aus dem Maschinellen Lernen können Muster, z.B. in Bildern, erkennen.\n",
    "* Das Video zeigt einen Ausschnitt vom Autopiloten einen selbstfahrenden Fahrzeuges. \n",
    "* Die erkannten Entitäten werden genutzt, um Entscheidungen zu treffen. \n",
    "* Es handelt sich um eine maschinelle Auswertung von Daten. Der Algorithmus lernt ein Fahrzeug auf einem Bild zu erkennen und wendet diese Fähigkeit dann immer wieder an. \n",
    "\n",
    "*https://www.tesla.com/de_DE/autopilotAI*\n"
   ]
  },
  {
   "cell_type": "markdown",
   "metadata": {
    "slideshow": {
     "slide_type": "subslide"
    }
   },
   "source": [
    "# Maschinelles Lernen generiert Inhalte \n",
    "\n",
    "<center><img src=\"img/thispersondoesnotexist.jpg\" width=30% class=\"stretch\"></center>\n",
    "\n",
    "* Maschinelles Lernen kann auch verwendet werden, um neue Inhalte zu generieren. \n",
    "* Es handelt sich dabei um verschiedene Arten von `GAN` Netzwerken, welche zufalls-basiert z.B. neue Bilder erzeugen, welche täuschend echt sind. \n",
    "* Dies ist auch aus diversen Deep-Fakes bekannt.\n",
    "\n",
    "*https://thispersondoesnotexist.com/*"
   ]
  },
  {
   "cell_type": "markdown",
   "metadata": {
    "slideshow": {
     "slide_type": "subslide"
    }
   },
   "source": [
    "# Maschinelles Lernen generiert Inhalte II\n",
    "\n",
    "<center><img src=\"img/mystandards.png\" width=60% class=\"stretch\"></center>\n",
    "\n",
    "\n",
    "* Predictive Quality: Wie kann eine hohe Güte bei der Produktion von Material Proben gesichert werden?\n",
    "* Gemeinsame Machbarkeitsstudie des KI-Transfer Hubs und myStandards\n",
    "* GAN Netze werden eingesetzt, um die Anzahl der verfügbaren Bilder für ein Training zu vervielfachen. \n"
   ]
  },
  {
   "cell_type": "markdown",
   "metadata": {
    "slideshow": {
     "slide_type": "subslide"
    }
   },
   "source": [
    "# Maschinelles Lernen in der vorausschauenden Wartung\n",
    "\n",
    "<center><img src=\"img/aviatar.png\" width=80% class=\"stretch\"></center>\n",
    "\n",
    "*https://www.iata.org/contentassets/a4bf2b3cda374ee29141304b6530e4ec/1430-1500-aviatar-platform-swiss.pdf*"
   ]
  },
  {
   "cell_type": "markdown",
   "metadata": {
    "slideshow": {
     "slide_type": "subslide"
    }
   },
   "source": [
    "# Maschinelles Lernen in der Steuerung  \n",
    "\n",
    "<center><img src=\"img/robothand.gif\" width=80% class=\"stretch\"></center>\n",
    "\n",
    "* Ziel ist es eine Seite des Würfels nach oben zu drehen, es existiert keine Steuerung für die Hand. \n",
    "* Durch ein `Reinforcement Learning` ist der Algorithmus in der Lage eine Steuerung für die Hand zu entwickeln.\n",
    "* Konkret wurde in diesem Beispiel das Lernen in Simulation und Experiment kombiniert. \n",
    "\n",
    "\n",
    "*https://openai.com/blog/learning-dexterity/*"
   ]
  },
  {
   "cell_type": "markdown",
   "metadata": {
    "slideshow": {
     "slide_type": "subslide"
    }
   },
   "source": [
    "# Automatic Domain Randomization \n",
    "\n",
    "<center><img src=\"img/adr.png\" width=40% class=\"stretch\"></center>\n",
    "\n",
    "* Die nächste Stufe der Roboterhand: Sie kann jetzt den Rubik-Würfel lösen.\n",
    "* Auf das \"Nachtrainieren\" im Experiment konnte verzichtet werden. \n",
    "* Stattdessen wird die Umgebung bei jedem Training zufalls-basiert verändert. \n",
    "\n",
    "*https://openai.com/blog/solving-rubiks-cube/*"
   ]
  },
  {
   "cell_type": "markdown",
   "metadata": {
    "slideshow": {
     "slide_type": "subslide"
    }
   },
   "source": [
    "# Maschinelles Lernen in der Steuerung II\n",
    "\n",
    "<center><img src=\"img/darpa.png\" width=40% class=\"stretch\"></center>\n",
    "\n",
    "* Die Möglichkeiten der KI gehen inzwischen soweit, dass die DARPA einen Dogfight Challenge ausgerufen hat. \n",
    "* Zunächst treten verschiedene KIs gegeneinander an. Im Anschluss werden einige Kandidaten gegen menschliche Piloten im Simulator antreten. \n",
    "* Die KI hat 5-0 gewonnen. \n",
    "\n",
    "*https://www.darpa.mil/news-events/2019-10-21*\n",
    "\n",
    "\n",
    "*https://www.darpa.mil/news-events/2020-08-26*"
   ]
  },
  {
   "cell_type": "markdown",
   "metadata": {
    "slideshow": {
     "slide_type": "subslide"
    }
   },
   "source": [
    "# Auch Simulationen werden immer besser\n",
    "\n",
    "<center><img src=\"img/dlr.png\" width=40% class=\"stretch\"></center>\n",
    "\n",
    "* Verschiedene Forschungseinrichtungen zielen darauf ab, Simulationen auf eine Qualität zu heben, die eine Zertifizierung zulässt. \n",
    "* Wenn entsprechende Verfahren verfügbar sind, wird auch die Trainingsumgebung für das maschinelle Lernen entsprechend realitätsnah. \n",
    "* (Künstliche Intelligenz wird auch dabei eingesetzt diese Simulationen, insbesondere die Lösung partieller Differentialgleichungen, zu verbessern.)\n",
    "\n",
    "*https://www.dlr.de/as/de/desktopdefault.aspx/tabid-188/379_read-52834/*"
   ]
  },
  {
   "cell_type": "markdown",
   "metadata": {
    "slideshow": {
     "slide_type": "subslide"
    }
   },
   "source": [
    "# Kompetenzen FunML\n",
    "\n",
    "* Nach erfolgreichem Abschluss der Veranstaltung können die Studierenden Anwendungsgebiete und Ziele für maschinelles Lernen beschreiben. Sie können die allgemeine Vorgehensweise beim Bearbeiten datenbasierter Fragestellung erläutern.\n",
    "* Die Studierenden sind in der Lage verschiedene Arten von Daten zu beschreiben und kennen die damit verbundenen Herausforderungen für das maschinelle Lernen. \n",
    "* Sie kennen die grundlegenden Konzepte des maschinellen Lernens und können diese erläutern. Sie sind mit den mathematischen und statistischen Grundlagen des maschinellen Lernens vertraut und können diese einsetzen, um Lernprobleme zu formalisieren. \n"
   ]
  },
  {
   "cell_type": "markdown",
   "metadata": {
    "slideshow": {
     "slide_type": "subslide"
    }
   },
   "source": [
    "# Kompetenzen FunML II\n",
    "\n",
    "* Die Studierenden kennen Konzepte, um Modelle zu bewerten und in einfachem Maße zu verbessern.\n",
    "* Die Studierenden sind in der Lage einfache Problemstellungen mit Hilfe des maschinellen Lernens zu bearbeiten und als Proof of Concept im Labor umzusetzen. Sie führen alle notwendigen Arbeitsschritte, wie das Formalisieren von Problemen, das Aufbereiten und Visualisieren von Daten und die Auswahl und das Training von Modellen, durch. Sie können die erstellte Lösung quantitativ und qualitativ bewerten.\n",
    "* Die Studierenden können sich in interdisziplinären Teams organisieren und sind in der Lage gemeinsam Methoden des maschinellen Lernens anzuwenden. Sie können Ihre Ergebnisse dokumentieren und präsentieren.\n"
   ]
  },
  {
   "cell_type": "markdown",
   "metadata": {
    "slideshow": {
     "slide_type": "subslide"
    }
   },
   "source": [
    "# CRISP-DM\n",
    "\n",
    "<img style=\"float: right;\" src=\"img/CRISP-DM_Process.png\" width=30% class=\"stretch\">\n",
    "\n",
    "* CRISP-DM: Cross Industry Standard Process for Data Mining \n",
    "* Iteratives Vorgehensmodell zur Erstellung von Use Cases basierend auf Maschine Learning. \n",
    "* Dieses Vorgehensmodell ist die Grundlage für das Modul."
   ]
  },
  {
   "cell_type": "markdown",
   "metadata": {
    "slideshow": {
     "slide_type": "subslide"
    }
   },
   "source": [
    "# Lernlandkarte\n",
    "\n",
    "<center><img src=\"img/lernlandkarte.png\" width=80% class=\"stretch\"></center>"
   ]
  },
  {
   "cell_type": "markdown",
   "metadata": {
    "slideshow": {
     "slide_type": "subslide"
    }
   },
   "source": [
    "# Was dieser Kurs nicht abdeckt\n",
    "\n",
    "* Deep Learning o.ä. (Nur als Ausblick)\n",
    "* Eigenständiges Programmieren von ML Algorithmen\n",
    "* Operationalisierung von ML Algorithmen\n",
    "* Reinforcement Learning \n",
    "* Visual Analytics"
   ]
  },
  {
   "cell_type": "markdown",
   "metadata": {
    "slideshow": {
     "slide_type": "subslide"
    }
   },
   "source": [
    "# Material\n",
    "\n",
    "* Vorlesung\n",
    "    * Jupyter Notebooks\n",
    "    * Programmierung in Python\n",
    "\n",
    "* Übung\n",
    "    * KNIME Open Source mit GUI \n",
    "    * Excel o.ä. für Graphen\n",
    "\n",
    "* Literatur ist im Moodle verlinkt"
   ]
  },
  {
   "cell_type": "markdown",
   "metadata": {
    "slideshow": {
     "slide_type": "subslide"
    }
   },
   "source": [
    "# Selbststudium \n",
    "\n",
    "* Das maschinelle Lernen ist ein großes und stark expandierendes Wissenfeld.\n",
    "* Sie erhalten eine Mischung aus Aufgaben und Literaturhinweisen, um sich selber weiter zu qualifizieren.\n",
    "* Dabei darf sich gerne ein Blick über den Tellerrand entwickeln.\n",
    "* Alle weiteren Informationen finden Sie im Moodle."
   ]
  },
  {
   "cell_type": "markdown",
   "metadata": {
    "slideshow": {
     "slide_type": "subslide"
    }
   },
   "source": [
    "# Prüfungsleistung\n",
    "\n",
    "* Bearbeiten einer Maschine Learning Aufgabenstellung\n",
    "* Teams aus der Übung können Aufgabe gemeinsam bearbeiten\n",
    "* Möglichkeit die Aufgabe in den letzten 6 Übungs-Terminen zu bearbeiten.\n",
    "* Aufgabe wird nach den IDW veröffentlicht und erläutert. \n",
    "* Späteste Abgabe am 26.06.2022\n",
    "* Abgabe \n",
    "    * Eigenständig verfasster Bericht (ca. 10 Seiten) (individuelle Prüfungsleistung)\n",
    "    * KNIME Workflow als zip"
   ]
  },
  {
   "cell_type": "markdown",
   "metadata": {
    "slideshow": {
     "slide_type": "subslide"
    }
   },
   "source": [
    "# Eigenschaften des Maschinellen Lernens\n",
    "\n",
    "\n",
    "* Maschinelles Lernen basiert auf Daten. \n",
    "* Es ist in der Regel keine explizite Lösung bekannt.\n",
    "* \"Smart\", \"Deep\", \"Digital\" sind Begriffe, die in dem Kontext inflationär verwendet werden. \n",
    "* Maschinelles Lernen ist rechenintensiv. \n",
    "* Maschinelles Lernen hat viel mit Statistik zu tun. "
   ]
  },
  {
   "cell_type": "markdown",
   "metadata": {
    "slideshow": {
     "slide_type": "subslide"
    }
   },
   "source": [
    "# Prinzip Maschinelles Lernen\n",
    "\n",
    "<center><img src=\"img/apfelbaum.png\" width=80% class=\"stretch\"></center>"
   ]
  },
  {
   "cell_type": "markdown",
   "metadata": {
    "slideshow": {
     "slide_type": "subslide"
    }
   },
   "source": [
    "# Grundformel des Maschinellen Lernens\n",
    "\n",
    "$$Y = f(X) + \\epsilon$$\n",
    "\n",
    "* $X$ entspricht den Prediktoren (Unabhängigen Variablen, Features, Input).\n",
    "* $Y$ entspricht der Antwort (Abhängige Variable, Output).\n",
    "* $\\epsilon$ entspricht dem zufälligen Fehlerterm mit Mittelwert $\\mu = 0$.\n",
    "* $f()$ ist die \"unbekannte\" Funktion zwischen Prediktor und Antwort.\n",
    "* Später werden wir versuchen ein $\\hat{f}()$ zu bestimmen, welches $f()$ so gut wie möglich approximiert. \n"
   ]
  },
  {
   "cell_type": "markdown",
   "metadata": {
    "slideshow": {
     "slide_type": "subslide"
    }
   },
   "source": [
    "# Problem 1: Bestimmen Sie den Zustand eines Triebwerks basierend auf dem Betrag der Vibration! Beschreiben Sie $y$ und $x$!\n",
    "\n",
    "<center><img src=\"img/engine.jpg\" width=40% class=\"stretch\"></center>"
   ]
  },
  {
   "cell_type": "markdown",
   "metadata": {
    "slideshow": {
     "slide_type": "subslide"
    }
   },
   "source": [
    "# Problem 2: Bestimmen Sie den Zustand eines Triebwerks basierend auf dem Betrag der Vibration und der Drehzahl der inneren Welle. Beschreiben Sie $y$ und $x$!\n",
    "\n",
    "<center><img src=\"img/engine.jpg\" width=40% class=\"stretch\"></center>\n"
   ]
  },
  {
   "cell_type": "markdown",
   "metadata": {
    "slideshow": {
     "slide_type": "subslide"
    }
   },
   "source": [
    "# Problem 3: Gegeben ist das folgende Bild einer Handschrift. Ihre Aufgabe ist es die passende Zahl zu identifizieren. Beschreiben Sie $y$ und $x$!\n",
    "\n",
    "<center><img src=\"img/5.png\" width=40% class=\"stretch\"></center>\n",
    "\n"
   ]
  },
  {
   "cell_type": "markdown",
   "metadata": {
    "slideshow": {
     "slide_type": "subslide"
    }
   },
   "source": [
    "# Problem 4: Gegeben ist das folgende Bild: Bestimmen Sie das Alter der Person. Beschreiben Sie $y$ und $x$!\n",
    "\n",
    "<center><img src=\"img/thispersondoesnotexist.jpg\" width=40% class=\"stretch\"></center>\n"
   ]
  },
  {
   "cell_type": "markdown",
   "metadata": {
    "slideshow": {
     "slide_type": "subslide"
    }
   },
   "source": [
    "# Problem 5: Gegeben ist der folgende Satz: Bestimmen Sie das nächste Wort! Beschreiben Sie $y$ und $x$!\n",
    "        \n",
    "\n",
    "\n",
    "**<center>eins ist eins und war schon...</center>**"
   ]
  },
  {
   "cell_type": "markdown",
   "metadata": {
    "slideshow": {
     "slide_type": "slide"
    }
   },
   "source": [
    "# Zusammenfassung \n",
    "\n",
    "* Motivation Maschinelles Lernen\n",
    "* Kompetenzen und Organisation\n",
    "* Einige Grundlagen"
   ]
  }
 ],
 "metadata": {
  "celltoolbar": "Slideshow",
  "kernelspec": {
   "display_name": "M3_Info_II",
   "language": "python",
   "name": "m3_info_ii"
  },
  "language_info": {
   "codemirror_mode": {
    "name": "ipython",
    "version": 3
   },
   "file_extension": ".py",
   "mimetype": "text/x-python",
   "name": "python",
   "nbconvert_exporter": "python",
   "pygments_lexer": "ipython3",
   "version": "3.12.0"
  },
  "varInspector": {
   "cols": {
    "lenName": 16,
    "lenType": 16,
    "lenVar": 40
   },
   "kernels_config": {
    "python": {
     "delete_cmd_postfix": "",
     "delete_cmd_prefix": "del ",
     "library": "var_list.py",
     "varRefreshCmd": "print(var_dic_list())"
    },
    "r": {
     "delete_cmd_postfix": ") ",
     "delete_cmd_prefix": "rm(",
     "library": "var_list.r",
     "varRefreshCmd": "cat(var_dic_list()) "
    }
   },
   "types_to_exclude": [
    "module",
    "function",
    "builtin_function_or_method",
    "instance",
    "_Feature"
   ],
   "window_display": false
  }
 },
 "nbformat": 4,
 "nbformat_minor": 2
}
